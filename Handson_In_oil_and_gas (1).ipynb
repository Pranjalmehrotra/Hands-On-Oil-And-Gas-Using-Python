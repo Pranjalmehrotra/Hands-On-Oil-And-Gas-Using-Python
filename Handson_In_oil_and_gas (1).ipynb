{
  "nbformat": 4,
  "nbformat_minor": 0,
  "metadata": {
    "colab": {
      "name": "Handson In oil and gas.ipynb",
      "private_outputs": true,
      "provenance": [],
      "collapsed_sections": []
    },
    "kernelspec": {
      "name": "python3",
      "display_name": "Python 3"
    },
    "language_info": {
      "name": "python"
    }
  },
  "cells": [
    {
      "cell_type": "markdown",
      "source": [
        "Problem Statement: We have various types of the lithologies on the basis of their matrix densities. But in most of the cases of the cases there are mainly 6 types of formation: sandstone,limestone,dolomite,clay,anhydrite,shale. Write a programme that takes input the mineral composition of the lithologies from the user and display the matrix densities accordingly.   \n",
        "\n",
        "\n",
        "\n",
        "\n",
        "\n"
      ],
      "metadata": {
        "id": "3h10YCj9j4hV"
      }
    },
    {
      "cell_type": "code",
      "source": [
        ""
      ],
      "metadata": {
        "id": "7mCeeuNolpXA"
      },
      "execution_count": null,
      "outputs": []
    },
    {
      "cell_type": "markdown",
      "source": [
        "Concept used: We know that different lithologies have different grain composition and matrix density.The matrix density range can overlapp for more than one lithology but the grain compositiob is unique which is listed below.\n",
        "\n",
        "\n",
        "Formation     Mineral Main Composition      Density range(gm/cc)\n",
        "\n",
        "\n",
        "sandstone   lithified quartz grains         1.9-2.65\n",
        "limestone   chiefly calcite                 2.2-2.71\n",
        "dolomite    chiefly Dolomite                2.3-2.87 \n",
        "clay        chiefly clay minerals           1.1-1.8\n",
        "anhydrite   Mainly Calcium Sulphate         2.98\n",
        "shale       Mainly Quartz                   2.4-2.8\n",
        "\n"
      ],
      "metadata": {
        "id": "E6EHcaFqnnlm"
      }
    },
    {
      "cell_type": "code",
      "source": [
        "matrix_composition=  input(\"Enter the matrix composition of the formation \")\n",
        "matrix_densitiy= float(input(\"Enter the matrix density of the formation in gm/cc ?\")) \n",
        "if(matrix_composition ==\"lithified quartz grains\"):    # Error what i was doing is matrix_composition =\"lithified quartz grains\" but it should be matrix_composition ==\"lithified quartz grains\"\n",
        "  if(1.9<=matrix_densitiy<=2.65):\n",
        "    print(\"Lithology is of Sandstone Formation\")\n",
        "elif (matrix_composition==\"chiefly calcite\"):  \n",
        "  if(2.2<=matrix_densitiy<=2.71):\n",
        "    print(\"Lithology is of Limestone Formation\")       # Identation error that is coming when print and if get align along the same axis.\n",
        "elif (matrix_composition==\"Dolomite\"):  \n",
        "  if(2.3<=matrix_densitiy<=2.871):\n",
        "    print(\"Lithology is of Dolomite Formation\")\n",
        "elif (matrix_composition==\"clay minerals\"):  \n",
        "  if(1.1 <=matrix_densitiy <=1.8):   \n",
        "    print(\"Lithology is of Clay Formation\")\n",
        "elif (matrix_composition==\"Calcium Sulphate\"):  \n",
        "  if(matrix_densitiy==2.98):\n",
        "    print(\"Lithology is of Anhydrite Formation\")\n",
        "elif (matrix_composition==\"Quartz\"):  \n",
        "  if(2.4<=matrix_densitiy<=2.8):\n",
        "    print(\"Lithology is of Shale Formation\")\n",
        "\n"
      ],
      "metadata": {
        "id": "A2WDKhKLphUh"
      },
      "execution_count": null,
      "outputs": []
    },
    {
      "cell_type": "code",
      "source": [
        ""
      ],
      "metadata": {
        "id": "sYL1U9p-QNdF"
      },
      "execution_count": null,
      "outputs": []
    }
  ]
}