{
  "nbformat": 4,
  "nbformat_minor": 0,
  "metadata": {
    "colab": {
      "name": "Oil and gas mini projects in python .ipynb",
      "private_outputs": true,
      "provenance": [],
      "collapsed_sections": []
    },
    "kernelspec": {
      "name": "python3",
      "display_name": "Python 3"
    },
    "language_info": {
      "name": "python"
    }
  },
  "cells": [
    {
      "cell_type": "markdown",
      "source": [
        "MINI PROJECT 1: We have various types od the oil classification(heavy, light etc) on the basis of the API Gravity of the oil. Write a programme that takes input the API Gravity of the petroleum proeducts from the user and display the results accordingly.\n"
      ],
      "metadata": {
        "id": "DjFtc4J4NOSo"
      }
    },
    {
      "cell_type": "code",
      "source": [
        "# CONCEPT OF API GRAVITY\n",
        "API GRAVITY > 31.1        - LIGHT OIL\n",
        "22.3 < API GRAVITY < 31.1 - MEDIUM OIL\n",
        "10   < API GRAVITY < 22.3 - HEAVY OIL\n",
        "API GRAVITY <10           - EXTRA HEAVY OIL"
      ],
      "metadata": {
        "id": "LSkg6eJwNV8O"
      },
      "execution_count": null,
      "outputs": []
    },
    {
      "cell_type": "code",
      "source": [
        "api_gravity= float(input(\"Enter the API gravity of the Petroleum Product ?\")) # converts the string into the float type\n",
        "if(api_gravity >31.1):\n",
        "  print(\"Petroleum Product is Light oil\")\n",
        "elif (22.3 < api_gravity < 31.1):  # there is no concept of else if like in the other languages in python we have elif concept.\n",
        "  print(\"Petroleum Product is Medium oil\")\n",
        "elif (10 < api_gravity < 22.3):           \n",
        "  print(\"Petroleum Product is Heavy Oil\")\n",
        "else:\n",
        "  print(\"Petroleum Product is Very Heavy Oil\") "
      ],
      "metadata": {
        "id": "whNX3YfQOBgu"
      },
      "execution_count": null,
      "outputs": []
    },
    {
      "cell_type": "markdown",
      "source": [
        "MINI PROJECT 2: We have various types of the porosity classificationon the basis \n",
        "of the packings. Write a programme that takes input the porosity from the user and display the results accordingly."
      ],
      "metadata": {
        "id": "A2oURzsfOvuO"
      }
    },
    {
      "cell_type": "code",
      "source": [
        "# CONCEPT OF POROSITY\n",
        "Maximum Porosities of the structures\n",
        "Cubic         0.476\n",
        "Hexagonal     0.395\n",
        "Rhombohedral  0.260\n",
        "Tetragoanl    0.302\n"
      ],
      "metadata": {
        "id": "2wTUhtjyqo0f"
      },
      "execution_count": null,
      "outputs": []
    },
    {
      "cell_type": "code",
      "source": [
        "porosity= float(input(\" Enter the porosity of the Packing ?\"))\n",
        "if(porosity == 0.476):\n",
        "  print(\"Cubic Structure\")\n",
        "elif ( 0.395 <= porosity < 0.476):\n",
        "  print(\"Hexagonal Structure\")\n",
        "elif (0.260 <= porosity < 0.302):\n",
        "  print(\"Rhombohedral Strucuture\")\n",
        "elif (0.302 <= porosity < 0.395 ):\n",
        "  print(\"Tetragoanl Structure\")\n",
        "else: \n",
        "    print(\"Such Packing Does not exist\")"
      ],
      "metadata": {
        "id": "PMXXQQl6q36V"
      },
      "execution_count": null,
      "outputs": []
    },
    {
      "cell_type": "markdown",
      "source": [
        ""
      ],
      "metadata": {
        "id": "KNWaJEYmMUjt"
      }
    },
    {
      "cell_type": "markdown",
      "source": [
        "MINI PROJECT 3:Problem Statement  We have various types of the lithologies on the basis of their matrix densities. But in most of the cases of the cases there are mainly 6 types of formation: sandstone,limestone,dolomite,clay,anhydrite,shale. Write a programme that takes input the mineral composition of the lithologies from the user and display the matrix densities accordingly. "
      ],
      "metadata": {
        "id": "97LFs1o8K_u9"
      }
    },
    {
      "cell_type": "markdown",
      "source": [
        "Concept used: We know that different lithologies have different grain composition and matrix density.The matrix density range can overlapp for more than one lithology but the grain compositiob is unique which is listed below.\n",
        "\n",
        "\n",
        "Formation     Mineral Main Composition      Density range(gm/cc)\n",
        "\n",
        "\n",
        "sandstone   lithified quartz grains         1.9-2.65\n",
        "limestone   chiefly calcite                 2.2-2.71\n",
        "dolomite    chiefly Dolomite                2.3-2.87 \n",
        "clay        chiefly clay minerals           1.1-1.8\n",
        "anhydrite   Mainly Calcium Sulphate         2.98\n",
        "shale       Mainly Quartz                   2.4-2.8"
      ],
      "metadata": {
        "id": "ZHGzHJs7LDSU"
      }
    },
    {
      "cell_type": "code",
      "source": [
        "matrix_composition=  input(\"Enter the matrix composition of the formation \")\n",
        "matrix_densitiy= float(input(\"Enter the matrix density of the formation in gm/cc ?\")) \n",
        "if(matrix_composition ==\"lithified quartz grains\"):    # Error what i was doing is matrix_composition =\"lithified quartz grains\" but it should be matrix_composition ==\"lithified quartz grains\"\n",
        "  if(1.9<=matrix_densitiy<=2.65):\n",
        "    print(\"Lithology is of Sandstone Formation\")\n",
        "elif (matrix_composition==\"chiefly calcite\"):  \n",
        "  if(2.2<=matrix_densitiy<=2.71):\n",
        "    print(\"Lithology is of Limestone Formation\")       # Identation error that is coming when print and if get align along the same axis.\n",
        "elif (matrix_composition==\"Dolomite\"):  \n",
        "  if(2.3<=matrix_densitiy<=2.871):\n",
        "    print(\"Lithology is of Dolomite Formation\")\n",
        "elif (matrix_composition==\"clay minerals\"):  \n",
        "  if(1.1 <=matrix_densitiy <=1.8):   \n",
        "    print(\"Lithology is of Clay Formation\")\n",
        "elif (matrix_composition==\"Calcium Sulphate\"):  \n",
        "  if(matrix_densitiy==2.98):\n",
        "    print(\"Lithology is of Anhydrite Formation\")\n",
        "elif (matrix_composition==\"Quartz\"):  \n",
        "  if(2.4<=matrix_densitiy<=2.8):\n",
        "    print(\"Lithology is of Shale Formation\")"
      ],
      "metadata": {
        "id": "jz0tPoE5LD99"
      },
      "execution_count": null,
      "outputs": []
    },
    {
      "cell_type": "code",
      "source": [
        ""
      ],
      "metadata": {
        "id": "GoepZGseLAfW"
      },
      "execution_count": null,
      "outputs": []
    }
  ]
}